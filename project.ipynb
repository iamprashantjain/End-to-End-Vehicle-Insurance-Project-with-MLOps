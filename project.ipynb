{
 "cells": [
  {
   "cell_type": "markdown",
   "metadata": {},
   "source": [
    "### Initial Project Setup\n",
    "\n",
    "- Run `template.py` to create file and folder structure\n",
    "- Write code in setup.py and pyproject.toml files\n",
    "- Create venv and install requirements.txt\n",
    "\n",
    "\n",
    "### Mongodb setup\n",
    "\n",
    "- signIn to mongodb atlas\n",
    "- create project & test cluster\n",
    "- create dbs user\n",
    "- (iamprashantjain2601 - kjRszbweibg7Y5ZB)\n",
    "- navigate to network access and add ip address: 0.0.0.0/0 to access it from anywhere\n",
    "- go back to project and hit \"connection string\" - select driver python > 3.6\n",
    "- save connection string: `mongodb+srv://iamprashantjain2601:<db_password>@cluster0.tqujt.mongodb.net/?retryWrites=true&w=majority&appName=Cluster0`\n",
    "- \n",
    "\n",
    "### What is setup.py & pyproject.toml file\n",
    "\n",
    "- `What is a pyproject.toml file?`\n",
    "- TOML (Tom’s Obvious, Minimal Language): It’s a simple configuration file format (like JSON or YAML) but is easier to read and write. \n",
    "- TOML is becoming the standard for Python packaging metadata.\n",
    "\n",
    "- `Why pyproject.toml is important:`\n",
    "- It was introduced with PEP 518 to modernize Python package building. Previously, everything was done using setup.py \n",
    "- but now pyproject.toml allows for more flexibility, better dependency management, and cleaner project configuration.\n",
    "- It centralizes metadata about the project: project name, version, dependencies, authors, etc.\n",
    "- It supports various build systems (like setuptools, poetry, etc.).\n",
    "\n",
    "- `Explaining sections of pyproject.toml:`\n",
    "- [project]: Defines the basic project information (name, version, description, authors).\n",
    "- [tool.setuptools]: Specifies that setuptools is being used to build the project.\n",
    "- [tool.setuptools.dynamic]: Links the external files (like requirements.txt) to dynamically pull dependencies.\n",
    "\n",
    "- setup.py with the advent of pyproject.toml: Some tasks previously handled by setup.py (like metadata) are now managed by pyproject.toml. However, setup.py can still be used, especially if you have complex build steps.\n",
    "\n",
    "- `How do setup.py, pyproject.toml, and requirements.txt work together?`\n",
    "- pyproject.toml: It’s now the central place for project metadata. Instead of defining your dependencies and project information in setup.py, you can define them in pyproject.toml.\n",
    "- As we did in your project, the line [tool.setuptools.dynamic] dependencies = {file = \"requirements.txt\"} links your requirements.txt file to the TOML file, so when the project is built, the dependencies are fetched from requirements.txt.\n",
    "\n",
    "- setup.py: While it’s still used for custom builds and configurations, most of the basic functionality (like metadata and dependencies) is being transferred to pyproject.toml. You might still keep a minimal setup.py if you have custom build steps, but for many projects, it’s not necessary anymore with pyproject.toml.\n",
    "\n",
    "- requirements.txt: It lists all project dependencies and their versions.\n",
    "- When you run pip install -r requirements.txt, it ensures that all dependencies are installed. The pyproject.toml file can reference it (as we did) so that package dependencies are automatically pulled from there.\n",
    "\n",
    "\n"
   ]
  },
  {
   "cell_type": "markdown",
   "metadata": {},
   "source": []
  }
 ],
 "metadata": {
  "language_info": {
   "name": "python"
  }
 },
 "nbformat": 4,
 "nbformat_minor": 2
}
